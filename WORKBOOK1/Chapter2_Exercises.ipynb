{
  "nbformat": 4,
  "nbformat_minor": 0,
  "metadata": {
    "colab": {
      "provenance": []
    },
    "kernelspec": {
      "name": "python3",
      "display_name": "Python 3"
    },
    "language_info": {
      "name": "python"
    }
  },
  "cells": [
    {
      "cell_type": "markdown",
      "metadata": {
        "id": "t6-VMjLFe3rE"
      },
      "source": [
        "#### Exercise 1"
      ]
    },
    {
      "cell_type": "markdown",
      "metadata": {
        "id": "mCgHL_pJe3rE"
      },
      "source": [
        "Write a program that uses input to prompt a user for their name and then welcomes them.\n",
        "```\n",
        "Enter your name: Chuck\n",
        "Hello Chuck\n",
        "```\n",
        "\n",
        "[PEW] E2.2"
      ]
    },
    {
      "cell_type": "code",
      "source": [
        "name = input('Please Enter Your Name: ')\n",
        "print('Hello' ,name)"
      ],
      "metadata": {
        "id": "5XB1l6ufmAwX",
        "colab": {
          "base_uri": "https://localhost:8080/"
        },
        "outputId": "17d95624-04b8-487d-9d4c-0b256eafdad1"
      },
      "execution_count": null,
      "outputs": [
        {
          "output_type": "stream",
          "name": "stdout",
          "text": [
            "Please Enter Your Name: Nyle\n",
            "Hello Nyle\n"
          ]
        }
      ]
    },
    {
      "cell_type": "raw",
      "metadata": {
        "id": "lisPy39CnXZe"
      },
      "source": []
    },
    {
      "cell_type": "markdown",
      "metadata": {
        "id": "68AfBMuae3rE"
      },
      "source": [
        "#### Exercise 2"
      ]
    },
    {
      "cell_type": "markdown",
      "metadata": {
        "id": "fMgrZqGJe3rE"
      },
      "source": [
        "Write a program to prompt the user for hours and rate per hour to compute gross pay.\n",
        "```\n",
        "Enter Hours: 35\n",
        "Enter Rate: 2.75\n",
        "Pay: 96.25\n",
        "```\n",
        "\n",
        "[PEW] E2.3"
      ]
    },
    {
      "cell_type": "code",
      "source": [
        "hour = input('Enter Hours: ')\n",
        "hours=int(hour)\n",
        "rate = 2.75\n",
        "GrossPay = hours*rate\n",
        "print('Pay: ',GrossPay)"
      ],
      "metadata": {
        "id": "5_2q7yo8muj_",
        "colab": {
          "base_uri": "https://localhost:8080/"
        },
        "outputId": "50c8230b-f28d-4328-b9de-dae9cea285ad"
      },
      "execution_count": null,
      "outputs": [
        {
          "output_type": "stream",
          "name": "stdout",
          "text": [
            "Enter Hours: 35\n",
            "Pay:  96.25\n"
          ]
        }
      ]
    },
    {
      "cell_type": "markdown",
      "metadata": {
        "id": "fN8y-rWVe3rE"
      },
      "source": [
        "#### Exercise 3"
      ]
    },
    {
      "cell_type": "markdown",
      "metadata": {
        "id": "-JvQGG6ye3rE"
      },
      "source": [
        "Assume that we execute the following assignment statements:\n",
        "```python\n",
        "width = 17\n",
        "height = 12.0\n",
        "```\n",
        "For each of the following expressions, write the value of the expression and the type (of the value of the expression).\n",
        "```python\n",
        "width//2\n",
        "width/2.0\n",
        "height/3\n",
        "1 + 2 * 5\n",
        "```\n",
        "\n",
        "[PEW] E2.4"
      ]
    },
    {
      "cell_type": "code",
      "source": [
        "width=17\n",
        "height=12.0\n",
        "\n",
        "width//2\n",
        "width/2.0\n",
        "height/3\n",
        "1 + 2 * 5\n",
        "\n",
        "print(\"Width\",type(width))\n",
        "print(\"Height\",type(height))\n",
        "print(\"1 + 2 * 5\",type(1 + 2 *5))"
      ],
      "metadata": {
        "id": "lOinOUl4mwbG",
        "colab": {
          "base_uri": "https://localhost:8080/"
        },
        "outputId": "5c702e75-c3b8-4fd1-b723-1f6795edd689"
      },
      "execution_count": null,
      "outputs": [
        {
          "output_type": "stream",
          "name": "stdout",
          "text": [
            "Width <class 'int'>\n",
            "Height <class 'float'>\n",
            "1 + 2 * 5 <class 'int'>\n"
          ]
        }
      ]
    },
    {
      "cell_type": "markdown",
      "metadata": {
        "id": "Q5q2HcTve3rE"
      },
      "source": [
        "#### Exercise 4\n",
        "\n",
        "Write a program that uses input to prompt a user for a number and then outputs the square of the number\n",
        "```\n",
        "Enter a number: 3\n",
        "The square of 3 is 9\n",
        "```"
      ]
    },
    {
      "cell_type": "code",
      "source": [
        "number = input('Enter a number: ')\n",
        "num =  int(number)\n",
        "square = num**2\n",
        "print(\"The square of\", num, \"is\", square)"
      ],
      "metadata": {
        "id": "TdGsCLJimyOn",
        "colab": {
          "base_uri": "https://localhost:8080/"
        },
        "outputId": "db9dd13f-89ae-4751-fd75-4d418cab453e"
      },
      "execution_count": null,
      "outputs": [
        {
          "output_type": "stream",
          "name": "stdout",
          "text": [
            "Enter a number: 3\n",
            "The square of 3 is 9\n"
          ]
        }
      ]
    },
    {
      "cell_type": "markdown",
      "metadata": {
        "id": "ZYsQb1h-e3rE"
      },
      "source": [
        "## CHALLENGE"
      ]
    },
    {
      "cell_type": "markdown",
      "metadata": {
        "id": "cILbjinke3rE"
      },
      "source": [
        "Write a program which prompts the user for a Celsius temperature, convert the temperature to Fahrenheit, and print out the converted temperature.\n",
        "\n",
        "[PEW] E2.5"
      ]
    },
    {
      "cell_type": "code",
      "source": [
        "cs = float(input(\"Please Enter Ceslsius: \"))\n",
        "fh = float(9/5*cs) + 32\n",
        "\n",
        "print(\"Fahrenheit: \",fh)"
      ],
      "metadata": {
        "colab": {
          "base_uri": "https://localhost:8080/"
        },
        "id": "K7JxP8ycvXrR",
        "outputId": "133e4d9b-a9cd-4c47-95af-140edcae1f36"
      },
      "execution_count": null,
      "outputs": [
        {
          "output_type": "stream",
          "name": "stdout",
          "text": [
            "Please Enter Ceslsius: 20\n",
            "Fahrenheit:  68.0\n"
          ]
        }
      ]
    }
  ]
}