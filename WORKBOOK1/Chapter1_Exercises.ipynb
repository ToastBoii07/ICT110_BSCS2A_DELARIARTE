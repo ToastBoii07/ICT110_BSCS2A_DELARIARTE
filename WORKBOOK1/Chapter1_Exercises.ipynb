{
  "nbformat": 4,
  "nbformat_minor": 0,
  "metadata": {
    "colab": {
      "provenance": []
    },
    "kernelspec": {
      "name": "python3",
      "display_name": "Python 3"
    },
    "language_info": {
      "name": "python"
    }
  },
  "cells": [
    {
      "cell_type": "markdown",
      "metadata": {
        "id": "g-VDzLH8e3q8"
      },
      "source": [
        "## EXERCISES"
      ]
    },
    {
      "cell_type": "markdown",
      "metadata": {
        "id": "r9WSaxgHe3q8"
      },
      "source": [
        "#### Exercise 1\n",
        "\n",
        "Each line of code below contains an error. Fix the error and explain in a comment the reason for the error."
      ]
    },
    {
      "cell_type": "code",
      "execution_count": null,
      "metadata": {
        "id": "ewf34EkOe3q9",
        "colab": {
          "base_uri": "https://localhost:8080/"
        },
        "outputId": "4cc0d663-3b9f-4efe-bc2a-a547befe91a4"
      },
      "outputs": [
        {
          "output_type": "stream",
          "name": "stdout",
          "text": [
            "Hello world!\n"
          ]
        }
      ],
      "source": [
        "print('Hello world!')\n",
        "\n",
        "# The word \"print\" had a capital letter P."
      ]
    },
    {
      "cell_type": "code",
      "execution_count": null,
      "metadata": {
        "id": "gHjCAGKOe3q9",
        "colab": {
          "base_uri": "https://localhost:8080/"
        },
        "outputId": "6969494f-6deb-4fa1-9650-604286cfbdc3"
      },
      "outputs": [
        {
          "output_type": "stream",
          "name": "stdout",
          "text": [
            "Hello world!\n"
          ]
        }
      ],
      "source": [
        "print('Hello world!')\n",
        "\n",
        "# The code was missing an open parenthesis (()."
      ]
    },
    {
      "cell_type": "code",
      "execution_count": null,
      "metadata": {
        "id": "UzgJ21hoe3q9",
        "colab": {
          "base_uri": "https://localhost:8080/"
        },
        "outputId": "429f8dbd-104a-4cc0-caa3-40ef8e30469f"
      },
      "outputs": [
        {
          "output_type": "stream",
          "name": "stdout",
          "text": [
            "Hello world!\n"
          ]
        }
      ],
      "source": [
        "print('Hello world!')\n",
        "\n",
        "# The code was missing an apostrophe (')."
      ]
    },
    {
      "cell_type": "code",
      "execution_count": null,
      "metadata": {
        "id": "fCPXblLre3q9",
        "colab": {
          "base_uri": "https://localhost:8080/"
        },
        "outputId": "46677a62-0648-4dc2-d59f-674859d60442"
      },
      "outputs": [
        {
          "output_type": "stream",
          "name": "stdout",
          "text": [
            "Hello world!\n"
          ]
        }
      ],
      "source": [
        "print('Hello world!')\n",
        "\n",
        "# The code had an excess apostrophe (')."
      ]
    },
    {
      "cell_type": "markdown",
      "metadata": {
        "id": "J6VDpIK-e3q9"
      },
      "source": [
        "#### Exercise 2\n",
        "What is the output of the code below? [PEW]"
      ]
    },
    {
      "cell_type": "code",
      "execution_count": null,
      "metadata": {
        "id": "g1KKu-i1e3q9",
        "colab": {
          "base_uri": "https://localhost:8080/"
        },
        "outputId": "9dc94260-6a71-44a9-d215-0c312fbb3328"
      },
      "outputs": [
        {
          "output_type": "stream",
          "name": "stdout",
          "text": [
            "44\n"
          ]
        }
      ],
      "source": [
        "x = 43\n",
        "x = x + 1\n",
        "print(x)\n",
        "\n",
        "#44, because x = 43 then x + 1 = 43 + 1 = (44)."
      ]
    },
    {
      "cell_type": "markdown",
      "metadata": {
        "id": "1IADShEEe3q9"
      },
      "source": [
        "#### Exercise 3\n",
        "The code below contains an error. Fix the error and explain in a comment the reason for the error."
      ]
    },
    {
      "cell_type": "code",
      "execution_count": null,
      "metadata": {
        "id": "N8h0sGX1e3q9",
        "colab": {
          "base_uri": "https://localhost:8080/"
        },
        "outputId": "30cc69cb-4acd-492b-ffda-bcfcea9299c5"
      },
      "outputs": [
        {
          "output_type": "stream",
          "name": "stdout",
          "text": [
            "44\n"
          ]
        }
      ],
      "source": [
        "x = 43\n",
        "x = x + 1\n",
        "print(x)\n",
        "\n",
        "# The capital letter 'X' is not defined and therefore the code won't run."
      ]
    },
    {
      "cell_type": "markdown",
      "metadata": {
        "id": "jrnayBsve3q9"
      },
      "source": [
        "[TABLE OF CONTENTS](#contents)"
      ]
    }
  ]
}